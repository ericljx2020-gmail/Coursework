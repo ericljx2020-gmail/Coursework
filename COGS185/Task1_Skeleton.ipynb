{
 "cells": [
  {
   "cell_type": "code",
   "execution_count": 5,
   "metadata": {},
   "outputs": [],
   "source": [
    "import numpy as np\n",
    "import math\n",
    "np.random.seed(111)\n",
    "import warnings\n",
    "warnings.filterwarnings('ignore')\n",
    "from matplotlib import cm, pyplot as plt\n",
    "\n",
    "from hmmlearn.hmm import GaussianHMM\n",
    "#import fix_yahoo_finance as yf # The library fetching the stock prices\n",
    "import pickle\n",
    "from sklearn.utils import check_random_state"
   ]
  },
  {
   "cell_type": "markdown",
   "metadata": {},
   "source": [
    "# Task 2: Hidden Markov Model"
   ]
  },
  {
   "cell_type": "markdown",
   "metadata": {},
   "source": [
    "## Task 2.1: Generate sample from GaussianHMM"
   ]
  },
  {
   "cell_type": "code",
   "execution_count": 8,
   "metadata": {},
   "outputs": [
    {
     "name": "stdout",
     "output_type": "stream",
     "text": [
      "covars\n",
      " [[0.5 0.5]\n",
      " [0.5 0.5]\n",
      " [0.5 0.5]\n",
      " [0.5 0.5]]\n"
     ]
    }
   ],
   "source": [
    "startprob = np.array([0.6,0.3,0.1,0.0])\n",
    "# The transition matrix, note that there are no transitions possible\n",
    "# between component 1 and 3\n",
    "transmat = np.array([\n",
    "    [0.7, 0.2, 0.0, 0.1],\n",
    "    [0.3, 0.5, 0.2, 0.0],\n",
    "    [0.0, 0.3, 0.5, 0.2],\n",
    "    [0.2, 0.0, 0.2, 0.6]\n",
    "])\n",
    "# The means of each component\n",
    "means = np.array( [[0.0, 0.0],\n",
    "[0.0, 11.0],\n",
    "[9.0, 10.0],\n",
    "[11.0, -1.0]])\n",
    "# The covariance of each component\n",
    "covars = 0.5 * np.tile(np.ones([1, 2]),(4, 1))\n",
    "\n",
    "# Build an HMM instance and set parameters\n",
    "#ghmm0 = GaussianHMM(n_components=4, covariance_type='full', algorithm=algorithm0)\n",
    "ghmm0 = GaussianHMM(n_components=4)\n",
    "\n",
    "# Instead of fitting it from the data, we directly set the estimated\n",
    "# parameters, the means and covariance of the components\n",
    "ghmm0.startprob_ = startprob\n",
    "ghmm0.transmat_ = transmat\n",
    "ghmm0.means_ = means\n",
    "ghmm0.covars_ = covars\n",
    "print ('covars\\n', covars)"
   ]
  },
  {
   "cell_type": "markdown",
   "metadata": {},
   "source": [
    "### Task 2.1.1: Sampling from an HMM model"
   ]
  },
  {
   "cell_type": "code",
   "execution_count": 12,
   "metadata": {
    "scrolled": true
   },
   "outputs": [
    {
     "name": "stdout",
     "output_type": "stream",
     "text": [
      "x0\n",
      " [[-0.16848186 10.12801237]\n",
      " [-0.55687031 10.67512763]\n",
      " [-1.05147365 -0.32099545]\n",
      " [ 0.16892366 -0.41713662]\n",
      " [-0.18531897 -1.23850943]\n",
      " [ 0.34789866  0.30028859]\n",
      " [ 0.01706083 11.10839503]\n",
      " [ 8.71144231  9.9519538 ]\n",
      " [ 9.41499349 11.25687705]\n",
      " [-0.21953733 12.69330135]\n",
      " [-0.64351402 11.82751474]\n",
      " [ 0.24762349 10.89976301]\n",
      " [ 8.93983186 10.98531439]\n",
      " [ 9.76691612 -1.56509066]\n",
      " [ 0.17218648 -1.07282541]]\n",
      "z0 [1. 1. 0. 0. 0. 0. 1. 2. 2. 1. 1. 1. 2. 3. 0.]\n"
     ]
    }
   ],
   "source": [
    "warnings.filterwarnings('ignore')\n",
    "idx0 = 0\n",
    "### L is a variable\n",
    "L = 15\n",
    "n_iter = 3\n",
    "n_samples = 15\n",
    "x0 = np.zeros((n_iter,n_samples,2))\n",
    "z0 = np.zeros((n_iter,n_samples))\n",
    "for i in  range(n_iter):\n",
    "    x0[i], z0[i] = ghmm0.sample(L)\n",
    "\n",
    "print ('x0\\n', x0[idx0])\n",
    "print ('z0', z0[idx0])"
   ]
  },
  {
   "cell_type": "code",
   "execution_count": 13,
   "metadata": {},
   "outputs": [
    {
     "name": "stdout",
     "output_type": "stream",
     "text": [
      "x0\n",
      " [[-2.36458178e-01 -2.16393859e-01]\n",
      " [ 1.10268020e+00 -1.27395792e-01]\n",
      " [ 1.47281643e+00 -9.08383138e-01]\n",
      " [-3.27607971e-03  6.42239503e-01]\n",
      " [-6.68418845e-01  3.82666666e-01]\n",
      " [-5.44376551e-01  1.09773592e+01]\n",
      " [-3.14364721e-01  9.44153008e+00]\n",
      " [-6.25384586e-01  2.66740077e-01]\n",
      " [ 1.12455483e+01 -1.19532803e+00]\n",
      " [ 1.17397860e+01 -1.63978923e+00]\n",
      " [ 1.14309864e+01 -1.41306035e+00]\n",
      " [-7.06773328e-01 -4.63183857e-01]\n",
      " [ 1.11895532e+01 -5.60188477e-01]\n",
      " [ 5.49338968e-01  1.76972352e-01]\n",
      " [ 4.23800582e-01  1.52316243e-01]]\n",
      "z0 [0. 0. 0. 0. 0. 1. 1. 0. 3. 3. 3. 0. 3. 0. 0.]\n"
     ]
    }
   ],
   "source": [
    "print ('x0\\n', x0[1])\n",
    "print ('z0', z0[1])"
   ]
  },
  {
   "cell_type": "code",
   "execution_count": 14,
   "metadata": {},
   "outputs": [
    {
     "name": "stdout",
     "output_type": "stream",
     "text": [
      "x0\n",
      " [[ 0.23457245  0.160677  ]\n",
      " [-0.26105583 -0.72827484]\n",
      " [ 1.31592531 -1.67068609]\n",
      " [-0.21839317  1.48713214]\n",
      " [-0.16402666 -0.70312786]\n",
      " [ 0.0733407  -0.02369465]\n",
      " [ 0.36072963  0.59995614]\n",
      " [10.02987454 -0.68486892]\n",
      " [10.94658557 -1.30825047]\n",
      " [ 8.87757207  9.34549608]\n",
      " [11.54674369 -1.65859336]\n",
      " [11.15872142 -1.33970802]\n",
      " [ 9.85127866  9.73217442]\n",
      " [-1.79128833 11.46099763]\n",
      " [ 9.0029333  10.92693438]]\n",
      "z0 [0. 0. 0. 0. 0. 0. 0. 3. 3. 2. 3. 3. 2. 1. 2.]\n"
     ]
    }
   ],
   "source": [
    "print ('x0\\n', x0[2])\n",
    "print ('z0', z0[2])"
   ]
  },
  {
   "cell_type": "markdown",
   "metadata": {},
   "source": [
    "### Task 2.1.3: Posterior Probability"
   ]
  },
  {
   "cell_type": "code",
   "execution_count": 24,
   "metadata": {},
   "outputs": [
    {
     "name": "stdout",
     "output_type": "stream",
     "text": [
      "[[0. 1. 0. 0.]\n",
      " [0. 1. 0. 0.]\n",
      " [1. 0. 0. 0.]\n",
      " [1. 0. 0. 0.]\n",
      " [1. 0. 0. 0.]\n",
      " [1. 0. 0. 0.]\n",
      " [0. 1. 0. 0.]\n",
      " [0. 0. 1. 0.]\n",
      " [0. 0. 1. 0.]\n",
      " [0. 1. 0. 0.]\n",
      " [0. 1. 0. 0.]\n",
      " [0. 1. 0. 0.]\n",
      " [0. 0. 1. 0.]\n",
      " [0. 0. 0. 1.]\n",
      " [1. 0. 0. 0.]]\n"
     ]
    }
   ],
   "source": [
    "POSTERIOR0 = ghmm0.predict_proba(x0[idx0])\n",
    "POSTERIOR0[POSTERIOR0<1e-10] = 0\n",
    "print (POSTERIOR0)"
   ]
  },
  {
   "cell_type": "markdown",
   "metadata": {},
   "source": [
    "## Task 2.2: Learn another HMM from Samples"
   ]
  },
  {
   "cell_type": "markdown",
   "metadata": {},
   "source": [
    "### Task 2.2.1: Choose one and fit ont it"
   ]
  },
  {
   "cell_type": "code",
   "execution_count": 25,
   "metadata": {},
   "outputs": [
    {
     "name": "stderr",
     "output_type": "stream",
     "text": [
      "Fitting a model with 31 free scalar parameters with only 30 data points will result in a degenerate solution.\n"
     ]
    },
    {
     "name": "stdout",
     "output_type": "stream",
     "text": [
      "startprob\n",
      " [0.00424315 0.99575685 0.         0.        ]\n",
      "transmat\n",
      " [[4.45268108e-01 2.43924486e-01 3.10807405e-01 0.00000000e+00]\n",
      " [9.99979571e-01 7.72377873e-06 1.27052201e-05 0.00000000e+00]\n",
      " [0.00000000e+00 0.00000000e+00 0.00000000e+00 1.00000000e+00]\n",
      " [5.07809401e-05 9.99949219e-01 0.00000000e+00 0.00000000e+00]]\n",
      "means\n",
      " [[-0.31413065  6.69507011]\n",
      " [ 0.03282269  4.70989852]\n",
      " [ 8.82563708 10.46863409]\n",
      " [ 9.5909548   4.8458932 ]]\n",
      "covars\n",
      " [[[2.08058496e-01 0.00000000e+00]\n",
      "  [0.00000000e+00 3.25766692e+01]]\n",
      "\n",
      " [[4.88200048e-02 0.00000000e+00]\n",
      "  [0.00000000e+00 3.58125657e+01]]\n",
      "\n",
      " [[1.80404465e-02 0.00000000e+00]\n",
      "  [0.00000000e+00 2.71958530e-01]]\n",
      "\n",
      " [[3.59623840e-02 0.00000000e+00]\n",
      "  [0.00000000e+00 4.11057140e+01]]]\n"
     ]
    }
   ],
   "source": [
    "ghmm1 = GaussianHMM(n_components=4, n_iter=500)\n",
    "ghmm1.fit(x0[idx0])\n",
    "print (\"startprob\\n\",ghmm1.startprob_)\n",
    "print (\"transmat\\n\", ghmm1.transmat_)\n",
    "print (\"means\\n\",ghmm1.means_)\n",
    "print (\"covars\\n\",ghmm1.covars_)"
   ]
  },
  {
   "cell_type": "markdown",
   "metadata": {},
   "source": [
    "### Task 2.2.2: Concatenate 3 sequences"
   ]
  },
  {
   "cell_type": "code",
   "execution_count": 26,
   "metadata": {},
   "outputs": [
    {
     "name": "stdout",
     "output_type": "stream",
     "text": [
      "startprob\n",
      " [6.66666667e-001 3.33333333e-001 2.82554034e-201 2.11932510e-251]\n",
      "transmat\n",
      " [[7.36842105e-001 1.05263158e-001 1.57894737e-001 3.03183331e-110]\n",
      " [2.50000000e-001 4.99999999e-001 2.50000001e-001 5.03159318e-095]\n",
      " [2.14285714e-001 7.14285721e-002 6.42857143e-001 7.14285708e-002]\n",
      " [1.82895804e-158 8.83565800e-096 1.00000000e+000 2.73359659e-272]]\n",
      "means\n",
      " [[ 0.1000778  -0.17721992]\n",
      " [-0.27280756 10.96887542]\n",
      " [10.25685113  3.38892484]\n",
      " [-1.79128833 11.46099763]]\n",
      "covars\n",
      " [[[4.02075346e-01 0.00000000e+00]\n",
      "  [0.00000000e+00 5.04938696e-01]]\n",
      "\n",
      " [[8.40231742e-02 0.00000000e+00]\n",
      "  [0.00000000e+00 8.58917837e-01]]\n",
      "\n",
      " [[1.14335921e+00 0.00000000e+00]\n",
      "  [0.00000000e+00 3.27486084e+01]]\n",
      "\n",
      " [[1.00000001e-02 0.00000000e+00]\n",
      "  [0.00000000e+00 1.00000001e-02]]]\n"
     ]
    }
   ],
   "source": [
    "lengthscon = np.array([15, 15, 15])\n",
    "xcon = np.concatenate(x0, axis=0)\n",
    "ghmm1con = GaussianHMM(n_components=4, n_iter=500)\n",
    "ghmm1con.fit(xcon, lengthscon)\n",
    "print (\"startprob\\n\",ghmm1con.startprob_)\n",
    "print (\"transmat\\n\", ghmm1con.transmat_)\n",
    "print (\"means\\n\",ghmm1con.means_)\n",
    "print (\"covars\\n\",ghmm1con.covars_)"
   ]
  },
  {
   "cell_type": "markdown",
   "metadata": {},
   "source": [
    "### Task 2.2.3: Predict states"
   ]
  },
  {
   "cell_type": "code",
   "execution_count": 48,
   "metadata": {},
   "outputs": [
    {
     "name": "stdout",
     "output_type": "stream",
     "text": [
      "z0 [1 1 0 0 0 0 1 2 2 1 1 1 2 3 0]\n",
      "z1 [1 1 0 0 0 0 1 2 2 1 1 1 2 3 0]\n",
      "z2 [1 0 0 1 0 1 0 2 3 1 0 0 2 3 1]\n"
     ]
    }
   ],
   "source": [
    "z1 = ghmm0.predict(x0[idx0])\n",
    "z2 = ghmm1.predict(x0[idx0])\n",
    "print ('z0', z0[idx0].astype(int))\n",
    "print ('z1', z1)\n",
    "print ('z2', z2)"
   ]
  },
  {
   "cell_type": "markdown",
   "metadata": {},
   "source": [
    "## Task 2.3: HMM inference for real: Stock Market Prediction"
   ]
  },
  {
   "cell_type": "code",
   "execution_count": 29,
   "metadata": {},
   "outputs": [],
   "source": [
    "\"\"\"\n",
    "quotes = pickle.load(open('my_quotes.obj', 'rb'))\n",
    "\"\"\"\n",
    "try:\n",
    "    with open('my_quotes.obj', 'rb') as fo:\n",
    "        quotes = pickle.load(fo)\n",
    "except:\n",
    "    with open('my_quotes.obj', 'rb') as f:\n",
    "        u = pickle._Unpickler(f)\n",
    "        u.encoding = 'latin1'\n",
    "        quotes = u.load()"
   ]
  },
  {
   "cell_type": "code",
   "execution_count": 30,
   "metadata": {},
   "outputs": [],
   "source": [
    "diff_c = np.diff(quotes.Close)"
   ]
  },
  {
   "cell_type": "code",
   "execution_count": 31,
   "metadata": {},
   "outputs": [],
   "source": [
    "binom1 = np.column_stack([diff_c[:100], quotes.Volume[1:101] / 3e7])"
   ]
  },
  {
   "cell_type": "code",
   "execution_count": 32,
   "metadata": {},
   "outputs": [
    {
     "data": {
      "text/plain": [
       "GaussianHMM(n_components=3)"
      ]
     },
     "execution_count": 32,
     "metadata": {},
     "output_type": "execute_result"
    }
   ],
   "source": [
    "ghmm2 = GaussianHMM(n_components=3, covariance_type='diag')\n",
    "ghmm2.fit(binom1)"
   ]
  },
  {
   "cell_type": "code",
   "execution_count": 33,
   "metadata": {},
   "outputs": [],
   "source": [
    "states = ghmm2.predict(binom1)"
   ]
  },
  {
   "cell_type": "markdown",
   "metadata": {},
   "source": [
    "### Task 2.3.1: New Model for Stock"
   ]
  },
  {
   "cell_type": "code",
   "execution_count": 34,
   "metadata": {},
   "outputs": [
    {
     "name": "stdout",
     "output_type": "stream",
     "text": [
      "startprob\n",
      " [1.00000000e+00 4.82067305e-29 1.88699032e-14]\n",
      "transmat\n",
      " [[8.85136870e-01 7.56030184e-05 1.14787527e-01]\n",
      " [3.04866345e-01 2.79600396e-01 4.15533259e-01]\n",
      " [4.96108069e-01 4.29164000e-01 7.47279303e-02]]\n",
      "means\n",
      " [[ 0.01941764  0.67036091]\n",
      " [-0.38981949  1.39280699]\n",
      " [ 0.09047913  0.98422546]]\n",
      "covars\n",
      " [[[0.0465312  0.        ]\n",
      "  [0.         0.02114369]]\n",
      "\n",
      " [[0.33672892 0.        ]\n",
      "  [0.         0.12523596]]\n",
      "\n",
      " [[0.17356943 0.        ]\n",
      "  [0.         0.0425311 ]]]\n"
     ]
    }
   ],
   "source": [
    "print (\"startprob\\n\",ghmm2.startprob_)\n",
    "print (\"transmat\\n\", ghmm2.transmat_)\n",
    "print (\"means\\n\",ghmm2.means_)\n",
    "print (\"covars\\n\",ghmm2.covars_)"
   ]
  },
  {
   "cell_type": "markdown",
   "metadata": {},
   "source": [
    "### Task 2.3.2: Visualization of States"
   ]
  },
  {
   "cell_type": "code",
   "execution_count": 40,
   "metadata": {},
   "outputs": [
    {
     "data": {
      "image/png": "[encoded data removed]",
      "text/plain": [
       "<Figure size 432x288 with 4 Axes>"
      ]
     },
     "metadata": {
      "needs_background": "light"
     },
     "output_type": "display_data"
    }
   ],
   "source": [
    "close_p = np.array(quotes.Close[1:101])\n",
    "dates = np.arange(len(close_p))\n",
    "\n",
    "fig, axs = plt.subplots(ghmm2.n_components + 1, sharex=True, sharey=True)\n",
    "colours = cm.rainbow(np.linspace(0, 1, ghmm2.n_components))\n",
    "axs[0].plot(dates, close_p)\n",
    "axs[0].set_title(\"Closing prices from day 1 to day 100.\")\n",
    "axs[0].grid(True)\n",
    "for i in range(1, ghmm2.n_components + 1):\n",
    "    mask = states == i - 1\n",
    "    axs[i].plot(dates[mask], close_p[mask], \".-\", c=colours[i - 1])\n",
    "    axs[i].set_title(\"#{0} hidden state\".format(i - 1))\n",
    "    axs[i].grid(True)\n",
    "\n",
    "plt.show()"
   ]
  },
  {
   "cell_type": "markdown",
   "metadata": {},
   "source": [
    "### Task 2.3.3: Market Prediction"
   ]
  },
  {
   "cell_type": "code",
   "execution_count": 42,
   "metadata": {},
   "outputs": [],
   "source": [
    "L = 15  # We would like to predict the following 15 days' trend\n",
    "Niter = 10  # A hyper parameter of generating samples\n",
    "\n",
    "warnings.filterwarnings('ignore')\n",
    "binom0 = np.column_stack([np.diff(quotes.Close), np.array(quotes.Volume)[1:] / 3e7])\n",
    "binom2 = np.copy(binom1)\n",
    "\n",
    "startprob_cdf = np.cumsum(ghmm2.startprob_)\n",
    "transmat_cdf = np.cumsum(ghmm2.transmat_, axis=1)\n",
    "random_state = np.random.RandomState(111)\n",
    "\n",
    "for l in range(L):\n",
    "    binom2 = np.append(binom2, [[0, 0]], axis=0)  # Add a pair of empty (d,v)\n",
    "    true_binom = np.copy(binom0[:len(binom1) + l])\n",
    "    state_seq = ghmm2.predict(true_binom)\n",
    "    previous_state = state_seq[-1]\n",
    "\n",
    "    maxLL = -1e10\n",
    "    for n in range(Niter):\n",
    "        currstate = (transmat_cdf[previous_state] > random_state.rand()).argmax()  # Go through transmat to get a new state\n",
    "\n",
    "        new_sample = ghmm2._generate_sample_from_state(currstate, random_state)\n",
    "        tmp_binom = np.copy(true_binom)\n",
    "        tmp_binom = np.append(tmp_binom, [new_sample], axis=0)  # Append the new_sample for score\n",
    "        tmp_maxLL = ghmm2.score(tmp_binom)\n",
    "        if tmp_maxLL > maxLL:\n",
    "            maxLL = tmp_maxLL\n",
    "            binom2[-1][0] = new_sample[0]\n",
    "            binom2[-1][1] = new_sample[1]"
   ]
  },
  {
   "cell_type": "code",
   "execution_count": 45,
   "metadata": {
    "scrolled": true
   },
   "outputs": [
    {
     "name": "stdout",
     "output_type": "stream",
     "text": [
      "115\n"
     ]
    },
    {
     "data": {
      "text/plain": [
       "Text(0.5, 1.0, 'Closing Prices')"
      ]
     },
     "execution_count": 45,
     "metadata": {},
     "output_type": "execute_result"
    },
    {
     "data": {
      "image/png": "[encoded data removed]",
      "text/plain": [
       "<Figure size 432x288 with 1 Axes>"
      ]
     },
     "metadata": {
      "needs_background": "light"
     },
     "output_type": "display_data"
    }
   ],
   "source": [
    "date2 = np.arange(len(binom2))\n",
    "print(len(date2))\n",
    "plt.figure()\n",
    "plt.plot(date2, quotes.Close.values[0] + np.cumsum(binom2[:, 0]))\n",
    "plt.plot(date2, quotes.Close.values[:len(binom1) + L])\n",
    "plt.grid(True)\n",
    "plt.legend(('predicted', 'ground truth'))\n",
    "plt.title(\"Closing Prices\")"
   ]
  },
  {
   "cell_type": "code",
   "execution_count": 47,
   "metadata": {},
   "outputs": [
    {
     "data": {
      "image/png": "[encoded data removed]",
      "text/plain": [
       "<Figure size 432x288 with 1 Axes>"
      ]
     },
     "metadata": {
      "needs_background": "light"
     },
     "output_type": "display_data"
    }
   ],
   "source": [
    "plt.figure()\n",
    "plt.plot(date2, binom2[:, 1] * 3e7)\n",
    "plt.plot(date2, quotes.Volume.values[0:len(binom1) + L])\n",
    "plt.grid(True)\n",
    "plt.legend(('predicted', 'ground truth'))\n",
    "plt.title(\"Volume\")\n",
    "\n",
    "plt.show()"
   ]
  },
  {
   "cell_type": "code",
   "execution_count": null,
   "metadata": {},
   "outputs": [],
   "source": []
  }
 ],
 "metadata": {
  "kernelspec": {
   "display_name": "Python 3 (ipykernel)",
   "language": "python",
   "name": "python3"
  },
  "language_info": {
   "codemirror_mode": {
    "name": "ipython",
    "version": 3
   },
   "file_extension": ".py",
   "mimetype": "text/x-python",
   "name": "python",
   "nbconvert_exporter": "python",
   "pygments_lexer": "ipython3",
   "version": "3.9.5"
  }
 },
 "nbformat": 4,
 "nbformat_minor": 2
}
